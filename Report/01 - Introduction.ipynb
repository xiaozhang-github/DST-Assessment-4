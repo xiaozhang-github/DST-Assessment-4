{
 "cells": [
  {
   "cell_type": "markdown",
   "id": "acknowledged-landscape",
   "metadata": {},
   "source": [
    "# Introduction\n",
    "\n",
    "## Data\n",
    "\n",
    "In this assessment, we selected the CIC-IDS-2017 dataset, which contains benign traffic and the latest common attacks. Compared with the outdated data set such as kddcup99, it looks more like real-world data(PCAPs) and is meaningful for the training, testing and verification of IDSs and IPSs. And we selected Wednesday's dataset, which included benign, four DOS attacks and Heartbleed attacks.\n",
    "\n",
    "## Model\n",
    "In this assessment we explored deep learning models for the network intrusion detection. We chose FFNN and Autoencoder followed by FFNN respectively, wanting to compare the  performance of semi-supervised methods(AE+FFNN) with the supervised feed-forward neural network(FFNN).\n",
    "\n",
    "This is really a new challenge for us--new methods and new platform. We did part of the work on HPC.\n",
    "\n",
    "## structure \n",
    "\n",
    "[02 - EDA and Preprocessing](https://github.com/xiaozhang-github/DST-Assessment-4/blob/main/Report/02%20-%20EDA%20and%20Preprocessing.ipynb) Exploratory data analysis and data preprocessing, as well as research on the importance of scaling. \n",
    "\n",
    "[03 - FFNN](https://github.com/xiaozhang-github/DST-Assessment-4/blob/main/Report/03%20-%20FFNN.ipynb) FFNN model and Hyperparameter tuning.\n",
    "\n",
    "[04 - Autoencoder](https://github.com/xiaozhang-github/DST-Assessment-4/blob/main/Report/04%20-%20Autoencoder.ipynb) Autoencoder (followed by FFNN) model and Hyperparameter tuning.\n",
    "\n",
    "[05 - Performance comparison and Conclusion](https://github.com/xiaozhang-github/DST-Assessment-4/blob/main/Report/05%20-%20Performance%20comparison%20and%20Conclusion.ipynb) We compare the performance of the above two models, and compare some traditional machine learning methods with the deep learning of this research. "
   ]
  }
 ],
 "metadata": {
  "kernelspec": {
   "display_name": "Python 3",
   "language": "python",
   "name": "python3"
  },
  "language_info": {
   "codemirror_mode": {
    "name": "ipython",
    "version": 3
   },
   "file_extension": ".py",
   "mimetype": "text/x-python",
   "name": "python",
   "nbconvert_exporter": "python",
   "pygments_lexer": "ipython3",
   "version": "3.6.10"
  }
 },
 "nbformat": 4,
 "nbformat_minor": 5
}
